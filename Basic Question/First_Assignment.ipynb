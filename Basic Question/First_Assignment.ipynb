{
 "cells": [
  {
   "cell_type": "markdown",
   "id": "5ea6741b",
   "metadata": {},
   "source": [
    "# 1\n",
    "Print Hello, World!"
   ]
  },
  {
   "cell_type": "code",
   "execution_count": 1,
   "id": "6d6020d0",
   "metadata": {},
   "outputs": [
    {
     "name": "stdout",
     "output_type": "stream",
     "text": [
      "Hello World!\n"
     ]
    }
   ],
   "source": [
    "print(\"Hello World!\")"
   ]
  },
  {
   "cell_type": "markdown",
   "id": "01970240",
   "metadata": {},
   "source": [
    "# 2 \n",
    "Given an integer,n , perform the following conditional actions:\n",
    "\n",
    "If n is odd, print Weird\n",
    "If n is even and in the inclusive range of 2 to 5 , print Not Weird\n",
    "If n is even and in the inclusive range of 6 to 20 , print Weird\n",
    "If n is even and greater than 20 , print Not Weird"
   ]
  },
  {
   "cell_type": "code",
   "execution_count": 4,
   "id": "b194214f",
   "metadata": {},
   "outputs": [
    {
     "name": "stdout",
     "output_type": "stream",
     "text": [
      "4\n",
      "Not Weird\n"
     ]
    }
   ],
   "source": [
    "n = int(input())\n",
    "\n",
    "if n % 2 == 1:\n",
    "    print(\"Weird\")\n",
    "elif n >= 2 and n <= 5:\n",
    "    print(\"Not Weird\")\n",
    "elif n >= 6 and n <= 20:\n",
    "    print(\"Weird\")\n",
    "else:\n",
    "    print(\"Not Weird\")\n"
   ]
  },
  {
   "cell_type": "markdown",
   "id": "bafc2978",
   "metadata": {},
   "source": [
    "The provided code stub reads two integers   and . Add code to print three lines where:\n",
    "The first line contains the sum of the two numbers.\n",
    "The second line contains the difference of the two numbers (first - second).\n",
    "The third line contains the product of the two numbers."
   ]
  },
  {
   "cell_type": "code",
   "execution_count": 6,
   "id": "a29e1db4",
   "metadata": {},
   "outputs": [
    {
     "name": "stdout",
     "output_type": "stream",
     "text": [
      "enter first number: 3\n",
      "enter second number: 4\n",
      "sum of two numbers: 7\n",
      "difference of the two numbers: -1\n",
      "product of two numbers: 12\n"
     ]
    }
   ],
   "source": [
    "a=int(input(\"enter first number: \"))\n",
    "b=int(input(\"enter second number: \"))\n",
    "print(\"sum of two numbers:\",a+b)\n",
    "print(\"difference of the two numbers:\",a-b)\n",
    "print(\"product of two numbers:\",a*b)"
   ]
  },
  {
   "cell_type": "markdown",
   "id": "ae437791",
   "metadata": {},
   "source": [
    "# 3\n",
    "The provided code stub reads two integers.\n",
    "\n",
    "Add logic to print two lines.\n",
    "The first line should contain the result of integer division, a//b . \n",
    "The second line should contain the result of float division,  a/b .\n",
    "\n",
    "No rounding or formatting is necessary."
   ]
  },
  {
   "cell_type": "code",
   "execution_count": 8,
   "id": "12c0b121",
   "metadata": {},
   "outputs": [
    {
     "name": "stdout",
     "output_type": "stream",
     "text": [
      "12\n",
      "5\n",
      "2\n",
      "2.4\n"
     ]
    }
   ],
   "source": [
    "a=int(input())\n",
    "b=int(input())\n",
    "print(a//b)\n",
    "print(a/b)"
   ]
  },
  {
   "cell_type": "markdown",
   "id": "3b70843d",
   "metadata": {},
   "source": [
    "# 5\n",
    "The provided code stub reads and integer,n , from STDIN. For all non-negative integers i<n , print i^2.\n",
    "Constraints 1<=n<=20\n",
    "\n",
    "\n"
   ]
  },
  {
   "cell_type": "code",
   "execution_count": 9,
   "id": "30fc4d84",
   "metadata": {},
   "outputs": [
    {
     "name": "stdout",
     "output_type": "stream",
     "text": [
      "enter positive integer: 5\n",
      "0\n",
      "1\n",
      "4\n",
      "9\n",
      "16\n"
     ]
    }
   ],
   "source": [
    "n=int(input(\"enter positive integer: \"))\n",
    "if 1<=n<=20:\n",
    "    for i in range(n):\n",
    "        print(i*i)"
   ]
  },
  {
   "cell_type": "markdown",
   "id": "c09d2e58",
   "metadata": {},
   "source": [
    "# 6\n",
    "Without using any string methods, try to print the following: 123...n\n",
    "\n",
    "\n",
    "Note that \"....\" represents the consecutive values in between.\n",
    "\n",
    "Example\n",
    "n=5\n",
    "Print the string 12345.\n",
    "constraint: 1<=n<=150"
   ]
  },
  {
   "cell_type": "code",
   "execution_count": 28,
   "id": "63c0e527",
   "metadata": {},
   "outputs": [
    {
     "name": "stdout",
     "output_type": "stream",
     "text": [
      "enter number between 1 and 150: 6\n",
      "123456"
     ]
    }
   ],
   "source": [
    "n=int(input(\"enter number between 1 and 150: \"))\n",
    "if n >1 and n<150:\n",
    "    for i in range(1, n+1):\n",
    "        print(i, end='')\n",
    "else:\n",
    "    print(\"invalid number\")\n",
    "\n"
   ]
  },
  {
   "cell_type": "code",
   "execution_count": null,
   "id": "94a1269f",
   "metadata": {},
   "outputs": [],
   "source": []
  },
  {
   "cell_type": "code",
   "execution_count": null,
   "id": "9d29b78f",
   "metadata": {},
   "outputs": [],
   "source": []
  }
 ],
 "metadata": {
  "kernelspec": {
   "display_name": "Python 3 (ipykernel)",
   "language": "python",
   "name": "python3"
  },
  "language_info": {
   "codemirror_mode": {
    "name": "ipython",
    "version": 3
   },
   "file_extension": ".py",
   "mimetype": "text/x-python",
   "name": "python",
   "nbconvert_exporter": "python",
   "pygments_lexer": "ipython3",
   "version": "3.9.12"
  }
 },
 "nbformat": 4,
 "nbformat_minor": 5
}
