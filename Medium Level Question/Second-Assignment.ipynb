{
 "cells": [
  {
   "cell_type": "markdown",
   "id": "2b70d24f",
   "metadata": {},
   "source": [
    "# 1\n",
    "You are given three integers  x,y and  z, representing the dimensions of a cuboid along with an integer n . Print a list of all possible coordinates given by (i,j,k)  on a 3D grid where the sum of i+j+k is not equal to n . Here, 0<=i<=x<=j<=y;0<=k<=z. Please use list comprehensions rather than multiple loops, as a learning exercise."
   ]
  },
  {
   "cell_type": "code",
   "execution_count": 3,
   "id": "86f29d17",
   "metadata": {},
   "outputs": [
    {
     "name": "stdout",
     "output_type": "stream",
     "text": [
      "2\n",
      "2\n",
      "2\n",
      "2\n",
      "[[0, 0, 0], [0, 0, 1], [0, 1, 0], [0, 1, 2], [0, 2, 1], [0, 2, 2], [1, 0, 0], [1, 0, 2], [1, 1, 1], [1, 1, 2], [1, 2, 0], [1, 2, 1], [1, 2, 2], [2, 0, 1], [2, 0, 2], [2, 1, 0], [2, 1, 1], [2, 1, 2], [2, 2, 0], [2, 2, 1], [2, 2, 2]]\n"
     ]
    }
   ],
   "source": [
    "x=int(input())\n",
    "y=int(input())\n",
    "z=int(input())\n",
    "n=int(input())\n",
    "cordinates=[[i,j,k] for i in range(x+1) for j in range(y+1) for k in range(z+1) if i+j+k!=n ]\n",
    "print(cordinates)"
   ]
  },
  {
   "cell_type": "markdown",
   "id": "bd2d8cb7",
   "metadata": {},
   "source": [
    "# 2\n",
    "Given the names and grades for each student in a class of N students, store them in a nested list and print the name(s) of any student(s) having the second lowest grade.\n",
    "\n",
    "Note: If there are multiple students with the second lowest grade, order their names alphabetically and print each name on a new line"
   ]
  },
  {
   "cell_type": "code",
   "execution_count": 10,
   "id": "28c04492",
   "metadata": {},
   "outputs": [
    {
     "name": "stdout",
     "output_type": "stream",
     "text": [
      "4\n",
      "shah\n",
      "21\n",
      "siod\n",
      "44\n",
      "ashd\n",
      "22\n",
      "shld\n",
      "11\n",
      "shah\n"
     ]
    }
   ],
   "source": [
    "n=int(input())\n",
    "students=[]\n",
    "for i in range(n):\n",
    "    name=input()\n",
    "    grade=float(input())\n",
    "    students.append([name,grade])\n",
    "grades=set([students[1] for students in students])\n",
    "second_lowestgrade=sorted(grades)[1]\n",
    "name=[students[0] for students in students if students[1]==second_lowestgrade]\n",
    "name.sort()\n",
    "\n",
    "for name in name:\n",
    "    print(name)"
   ]
  },
  {
   "cell_type": "markdown",
   "id": "122b5ec9",
   "metadata": {},
   "source": [
    "#  3\n",
    "The provided code stub will read in a dictionary containing key/value pairs of name:[marks] for a list of students. Print the average of the marks array for the student name provided, showing 2 places after the decimal."
   ]
  },
  {
   "cell_type": "code",
   "execution_count": 14,
   "id": "329f0b41",
   "metadata": {},
   "outputs": [
    {
     "name": "stdout",
     "output_type": "stream",
     "text": [
      "3\n",
      "krishna 67 78 89\n",
      "abhilash 87 89 76\n",
      "shahper 76 87 99\n",
      "shahper\n",
      "87.33\n"
     ]
    }
   ],
   "source": [
    "# Read in the dictionary of student data\n",
    "n = int(input())\n",
    "student_marks = {}\n",
    "for i in range(n):\n",
    "    name, *marks = input().split()\n",
    "    marks = list(map(float, marks))\n",
    "    student_marks[name] = marks\n",
    "\n",
    "# Prompt the user for a student name\n",
    "query_name = input()\n",
    "\n",
    "# Calculate the average marks for the student\n",
    "marks = student_marks[query_name]\n",
    "average_marks = sum(marks) / len(marks)\n",
    "\n",
    "# Print the average marks with 2 decimal places\n",
    "print(\"{:.2f}\".format(average_marks))\n"
   ]
  },
  {
   "cell_type": "markdown",
   "id": "a883e685",
   "metadata": {},
   "source": [
    "# 4\n",
    "Consider a list (list = []). You can perform the following commands:\n",
    "\n",
    "insert i e: Insert integer e at position i .\n",
    "print: Print the list.\n",
    "remove e: Delete the first occurrence of integer  e.\n",
    "append e: Insert integer e  at the end of the list.\n",
    "sort: Sort the list.\n",
    "pop: Pop the last element from the list.\n",
    "reverse: Reverse the list.\n",
    "Initialize your list and read in the value of  n followed by n  lines of commands where each command will be of the  types listed above. Iterate through each command in order and perform the corresponding operation on your list"
   ]
  },
  {
   "cell_type": "code",
   "execution_count": 5,
   "id": "bbdc5189",
   "metadata": {},
   "outputs": [
    {
     "name": "stdout",
     "output_type": "stream",
     "text": [
      "12\n",
      "insert 0 5\n",
      "insert 1 10\n",
      "insert 0 6\n",
      "print\n",
      "[6, 5, 10]\n",
      "remove 6\n",
      "append 9\n",
      "append1\n",
      "sort\n",
      "print\n",
      "[5, 9, 10]\n",
      "pop\n",
      "reverse\n",
      "print\n",
      "[9, 5]\n"
     ]
    }
   ],
   "source": [
    "lst=[]\n",
    "n=int(input().strip())\n",
    "for i in range(n):\n",
    "    cmnd=input().strip().split()\n",
    "    if cmnd[0]==\"insert\":\n",
    "        lst.insert(int(cmnd[1]),int(cmnd[2]))\n",
    "    elif cmnd[0]==\"print\":\n",
    "        print(lst)\n",
    "    elif cmnd[0]==\"remove\":\n",
    "        lst.remove(int(cmnd[1]))\n",
    "    elif cmnd[0]==\"append\":\n",
    "        lst.append(int(cmnd[1]))\n",
    "    elif cmnd[0]==\"sort\":\n",
    "        lst.sort()\n",
    "    elif cmnd[0]==\"pop\":\n",
    "        lst.pop()\n",
    "    elif cmnd[0]==\"reverse\":\n",
    "        lst.reverse()"
   ]
  },
  {
   "cell_type": "markdown",
   "id": "35f16b60",
   "metadata": {},
   "source": [
    "# 5\n",
    "Given an integer,n , and  n  space-separated integers as input, create a tuple,t , of those n integers. Then compute and print the result of .hash(t)"
   ]
  },
  {
   "cell_type": "code",
   "execution_count": 7,
   "id": "98558af1",
   "metadata": {},
   "outputs": [
    {
     "name": "stdout",
     "output_type": "stream",
     "text": [
      "1\n",
      "2\n",
      "6909455589863252355\n"
     ]
    }
   ],
   "source": [
    "n = int(input())\n",
    "integer_list = map(int, input().split())\n",
    "t=tuple(map(int,integer_list))\n",
    "print(hash(t))"
   ]
  },
  {
   "cell_type": "code",
   "execution_count": 9,
   "id": "9d386316",
   "metadata": {},
   "outputs": [
    {
     "name": "stdout",
     "output_type": "stream",
     "text": [
      "5\n",
      "25 26 27 25 87\n",
      "41.25\n"
     ]
    }
   ],
   "source": [
    "# Sets Problem\n",
    "def average(array):\n",
    "    return sum(set(array))/len(set(array))\n",
    "\n",
    "\n",
    "\n",
    "n = int(input())\n",
    "arr = list(map(int, input().split()))\n",
    "result = average(arr)\n",
    "print(result)"
   ]
  },
  {
   "cell_type": "markdown",
   "id": "bd727cf7",
   "metadata": {},
   "source": [
    "# 6"
   ]
  },
  {
   "cell_type": "code",
   "execution_count": 1,
   "id": "f54fbcf5",
   "metadata": {},
   "outputs": [
    {
     "name": "stdout",
     "output_type": "stream",
     "text": [
      "3 2\n",
      "1 5 3\n",
      "3 1\n",
      "5 7\n",
      "1\n"
     ]
    }
   ],
   "source": [
    "n, m = input().split()\n",
    "\n",
    "sc_ar = input().split()\n",
    "\n",
    "A = set(input().split())\n",
    "B = set(input().split())\n",
    "print(sum([(i in A) - (i in B) for i in sc_ar]))"
   ]
  },
  {
   "cell_type": "markdown",
   "id": "737f80e8",
   "metadata": {},
   "source": [
    "# 7"
   ]
  },
  {
   "cell_type": "code",
   "execution_count": 2,
   "id": "9e7ca01b",
   "metadata": {},
   "outputs": [
    {
     "name": "stdout",
     "output_type": "stream",
     "text": [
      "4\n",
      "2 4 5 9\n",
      "4\n",
      "2 4 11 12\n",
      "5\n",
      "9\n",
      "11\n",
      "12\n"
     ]
    }
   ],
   "source": [
    "\n",
    "a,b = [set(input().split()) for _ in range(4)][1::2]\n",
    "print('\\n'.join(sorted(a^b, key=int)))"
   ]
  },
  {
   "cell_type": "markdown",
   "id": "5d679a28",
   "metadata": {},
   "source": [
    "# 8"
   ]
  },
  {
   "cell_type": "code",
   "execution_count": 4,
   "id": "694c70b0",
   "metadata": {},
   "outputs": [
    {
     "name": "stdout",
     "output_type": "stream",
     "text": [
      "7\n",
      "UK\n",
      "USA\n",
      "INDIA\n",
      "UK\n",
      "USA\n",
      "BRAZIL\n",
      "COMBODIA\n",
      "5\n"
     ]
    }
   ],
   "source": [
    "a = set()\n",
    "[a.add(input()) for i in range(int(input()))]\n",
    "print(len(a))"
   ]
  },
  {
   "cell_type": "markdown",
   "id": "fd869370",
   "metadata": {},
   "source": [
    "# 9"
   ]
  },
  {
   "cell_type": "code",
   "execution_count": 7,
   "id": "c27c12b3",
   "metadata": {},
   "outputs": [
    {
     "name": "stdout",
     "output_type": "stream",
     "text": [
      "9\n",
      "1 2 3 4 5 6 7 8 9\n",
      "10\n",
      "pop\n",
      "remove 9\n",
      "discard 9\n",
      "discard 8\n",
      "remove 7\n",
      "pop\n",
      "discard 6\n",
      "remove 5\n",
      "pop\n",
      "discard 5\n",
      "4\n"
     ]
    }
   ],
   "source": [
    "num = int(input())\n",
    "data = set(map(int, input().split()))\n",
    "operations = int(input())\n",
    "\n",
    "for x in range(operations):\n",
    "  oper = input().split()\n",
    "  if oper[0] == \"remove\":\n",
    "    data.remove(int(oper[1]))\n",
    "  elif oper[0] == \"discard\":\n",
    "    data.discard(int(oper[1]))\n",
    "  else:\n",
    "    data.pop()\n",
    "    \n",
    "print(sum(data))"
   ]
  },
  {
   "cell_type": "markdown",
   "id": "543633c0",
   "metadata": {},
   "source": [
    "# 10\n"
   ]
  },
  {
   "cell_type": "code",
   "execution_count": 8,
   "id": "4f01a8eb",
   "metadata": {},
   "outputs": [
    {
     "name": "stdout",
     "output_type": "stream",
     "text": [
      "9\n",
      "123456789\n",
      "9\n",
      "10 1 2 3 11 21 45 21 1\n",
      "8\n"
     ]
    }
   ],
   "source": [
    "n = int(input())\n",
    "A = set(map(int, input().split()))\n",
    "m = int(input())\n",
    "B = set(map(int, input().split()))\n",
    "\n",
    "ans = A.union(B)\n",
    "print(len(ans))"
   ]
  },
  {
   "cell_type": "markdown",
   "id": "246fc5a1",
   "metadata": {},
   "source": [
    "# 11"
   ]
  },
  {
   "cell_type": "code",
   "execution_count": 9,
   "id": "faf01ba9",
   "metadata": {},
   "outputs": [
    {
     "name": "stdout",
     "output_type": "stream",
     "text": [
      "9\n",
      "1 2 3 4 5 6 7 8 9\n",
      "9\n",
      "10 1 2 3 11 21 23 34 9\n",
      "4\n"
     ]
    }
   ],
   "source": [
    "n1=input()\n",
    "li1 = input().split()\n",
    "s1 = set(li1)\n",
    "n2=input()\n",
    "li2 = input().split()\n",
    "s2 = set(li2)\n",
    "s1s2 = s1.intersection(s2)\n",
    "print(len(s1s2))"
   ]
  },
  {
   "cell_type": "markdown",
   "id": "e57e8b9d",
   "metadata": {},
   "source": [
    "# 12"
   ]
  },
  {
   "cell_type": "code",
   "execution_count": 10,
   "id": "6ccff6ef",
   "metadata": {},
   "outputs": [
    {
     "name": "stdout",
     "output_type": "stream",
     "text": [
      "4\n",
      "1 2 3 4\n",
      "4\n",
      "4 3 8 6\n",
      "2\n"
     ]
    }
   ],
   "source": [
    "\n",
    "n1=input()\n",
    "li1 = input().split()\n",
    "s1 = set(li1)\n",
    "n2=input()\n",
    "li2 = input().split()\n",
    "s2 = set(li2)\n",
    "s1s2 = s1.difference(s2)\n",
    "print(len(s1s2))"
   ]
  },
  {
   "cell_type": "markdown",
   "id": "ea55e7ba",
   "metadata": {},
   "source": [
    "# 13"
   ]
  },
  {
   "cell_type": "code",
   "execution_count": 11,
   "id": "65e51707",
   "metadata": {},
   "outputs": [
    {
     "name": "stdout",
     "output_type": "stream",
     "text": [
      "3\n",
      "5\n",
      "1 2 3 4 5 6\n",
      "9\n",
      "1 2 3 4 5 6 7 8 9\n",
      "True\n",
      "1\n",
      "2\n",
      "5\n",
      "3 6 5 4 1\n",
      "False\n",
      "7\n",
      "1 2 3 4 5 6 7 8 9\n",
      "3\n",
      "9 8 2\n",
      "False\n"
     ]
    }
   ],
   "source": [
    "for i in range(int(input())): \n",
    "    a = int(input()); A = set(input().split()) \n",
    "    b = int(input()); B = set(input().split())\n",
    "    if(len(A.difference(B))==0):\n",
    "        print(\"True\")\n",
    "    else:\n",
    "        print(\"False\")"
   ]
  },
  {
   "cell_type": "markdown",
   "id": "6d02dec8",
   "metadata": {},
   "source": [
    "# 14"
   ]
  },
  {
   "cell_type": "code",
   "execution_count": 12,
   "id": "999e24b3",
   "metadata": {},
   "outputs": [
    {
     "name": "stdout",
     "output_type": "stream",
     "text": [
      "5\n",
      "1 2 3 4 5 \n",
      "5\n",
      "5 4 3 2 1\n",
      "0\n"
     ]
    }
   ],
   "source": [
    "n1=input()\n",
    "li1 = input().split()\n",
    "s1 = set(li1)\n",
    "n2=input()\n",
    "li2 = input().split()\n",
    "s2 = set(li2)\n",
    "s1s2 = s1.symmetric_difference(s2)\n",
    "print(len(s1s2))"
   ]
  },
  {
   "cell_type": "markdown",
   "id": "8a3fd755",
   "metadata": {},
   "source": [
    "# 15 "
   ]
  },
  {
   "cell_type": "code",
   "execution_count": 13,
   "id": "c58c2795",
   "metadata": {},
   "outputs": [
    {
     "name": "stdout",
     "output_type": "stream",
     "text": [
      "4\n",
      "1 2 3 4 4 55 6 6\n",
      "67\n"
     ]
    }
   ],
   "source": [
    "k,arr = int(input()),list(map(int, input().split()))\n",
    "\n",
    "myset = set(arr)\n",
    "\n",
    "print(((sum(myset)*k)-(sum(arr)))//(k-1))"
   ]
  },
  {
   "cell_type": "code",
   "execution_count": null,
   "id": "bd6931f3",
   "metadata": {},
   "outputs": [],
   "source": []
  }
 ],
 "metadata": {
  "kernelspec": {
   "display_name": "Python 3 (ipykernel)",
   "language": "python",
   "name": "python3"
  },
  "language_info": {
   "codemirror_mode": {
    "name": "ipython",
    "version": 3
   },
   "file_extension": ".py",
   "mimetype": "text/x-python",
   "name": "python",
   "nbconvert_exporter": "python",
   "pygments_lexer": "ipython3",
   "version": "3.9.12"
  }
 },
 "nbformat": 4,
 "nbformat_minor": 5
}
